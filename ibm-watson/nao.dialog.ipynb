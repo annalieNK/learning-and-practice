{
 "cells": [
  {
   "cell_type": "code",
   "execution_count": 32,
   "metadata": {
    "collapsed": true
   },
   "outputs": [],
   "source": [
    "import requests\n",
    "import shutil\n",
    "import json\n",
    "import sys\n",
    "import os"
   ]
  },
  {
   "cell_type": "code",
   "execution_count": 33,
   "metadata": {
    "collapsed": true
   },
   "outputs": [],
   "source": [
    "requests.packages.urllib3.disable_warnings()"
   ]
  },
  {
   "cell_type": "code",
   "execution_count": 34,
   "metadata": {
    "collapsed": true
   },
   "outputs": [],
   "source": [
    "user=\"####\"\n",
    "pswd=\"####\"\n",
    "dialog_id=\"e83528d6-a471-47d7-b138-eba240e1cbcc\"\n",
    "path = \"./pizza_order.xml\"\n",
    "script=str(sys.argv[0]) "
   ]
  },
  {
   "cell_type": "code",
   "execution_count": 35,
   "metadata": {
    "collapsed": false
   },
   "outputs": [
    {
     "name": "stdout",
     "output_type": "stream",
     "text": [
      "Usage: python /Users/annalie/anaconda/lib/python2.7/site-packages/ipykernel/__main__.py\n",
      "        or python /Users/annalie/anaconda/lib/python2.7/site-packages/ipykernel/__main__.py 'conversation_id' 'input'\n",
      "\n",
      "\n"
     ]
    }
   ],
   "source": [
    "print \"Usage: python {}\".format(script) \n",
    "print \"        or python {} 'conversation_id' 'input'\".format(script) \n",
    "print\n",
    "print"
   ]
  },
  {
   "cell_type": "code",
   "execution_count": 36,
   "metadata": {
    "collapsed": false
   },
   "outputs": [],
   "source": [
    "###Set the url###\n",
    "url=\"https://gateway.watsonplatform.net/dialog/api\"\n",
    "dialogurl=url+\"/v1/dialogs/\""
   ]
  },
  {
   "cell_type": "code",
   "execution_count": 38,
   "metadata": {
    "collapsed": false
   },
   "outputs": [
    {
     "ename": "IOError",
     "evalue": "[Errno 2] No such file or directory: './pizza_order.xml'",
     "output_type": "error",
     "traceback": [
      "\u001b[0;31m---------------------------------------------------------------------------\u001b[0m",
      "\u001b[0;31mIOError\u001b[0m                                   Traceback (most recent call last)",
      "\u001b[0;32m<ipython-input-38-28f6aee71cd5>\u001b[0m in \u001b[0;36m<module>\u001b[0;34m()\u001b[0m\n\u001b[1;32m      1\u001b[0m \u001b[0;31m###Read file\u001b[0m\u001b[0;34m\u001b[0m\u001b[0;34m\u001b[0m\u001b[0m\n\u001b[1;32m      2\u001b[0m \u001b[0mfilename\u001b[0m \u001b[0;34m=\u001b[0m \u001b[0mos\u001b[0m\u001b[0;34m.\u001b[0m\u001b[0mpath\u001b[0m\u001b[0;34m.\u001b[0m\u001b[0mbasename\u001b[0m\u001b[0;34m(\u001b[0m\u001b[0mpath\u001b[0m\u001b[0;34m)\u001b[0m\u001b[0;34m\u001b[0m\u001b[0m\n\u001b[0;32m----> 3\u001b[0;31m \u001b[0mxml\u001b[0m \u001b[0;34m=\u001b[0m \u001b[0mopen\u001b[0m\u001b[0;34m(\u001b[0m\u001b[0mpath\u001b[0m\u001b[0;34m,\u001b[0m \u001b[0;34m'rb'\u001b[0m\u001b[0;34m)\u001b[0m\u001b[0;34m\u001b[0m\u001b[0m\n\u001b[0m",
      "\u001b[0;31mIOError\u001b[0m: [Errno 2] No such file or directory: './pizza_order.xml'"
     ]
    }
   ],
   "source": [
    "###Read file\n",
    "filename = os.path.basename(path)\n",
    "xml = open(path, 'rb')"
   ]
  },
  {
   "cell_type": "code",
   "execution_count": null,
   "metadata": {
    "collapsed": true
   },
   "outputs": [],
   "source": [
    "###Send the request###\n",
    "response = requests.get(dialogurl, data = xml,  auth =(user,pswd), verify=False)"
   ]
  },
  {
   "cell_type": "code",
   "execution_count": 23,
   "metadata": {
    "collapsed": false
   },
   "outputs": [
    {
     "name": "stdout",
     "output_type": "stream",
     "text": [
      "[{u'dialog_id': u'8a661d90-6b45-4038-98bc-c4e3901d70b1', u'name': u'dialog_jsstylos'}, {u'dialog_id': u'7acba66e-235e-48c2-88cc-82a2fd11e116', u'name': u'trialtutorial_v1'}, {u'dialog_id': u'1c2adbfb-984a-4c21-b357-acf1c1bf4716', u'name': u'pizza_order_1'}, {u'dialog_id': u'e83528d6-a471-47d7-b138-eba240e1cbcc', u'name': u'nao_pizza_order'}]\n"
     ]
    }
   ],
   "source": [
    "### print the result###\n",
    "if response.status_code == 200:\n",
    "    json_data = json.loads(response.text)\n",
    "    transcript=json_data[\"dialogs\"]\n",
    "    print(transcript)\n",
    "else:\n",
    "    print (\"Response code is %d\" , response.status_code)"
   ]
  },
  {
   "cell_type": "code",
   "execution_count": 24,
   "metadata": {
    "collapsed": true
   },
   "outputs": [],
   "source": [
    "dialogurl=url+\"/v1/dialogs/\" + dialog_id +\"/conversation\""
   ]
  },
  {
   "cell_type": "code",
   "execution_count": 25,
   "metadata": {
    "collapsed": true
   },
   "outputs": [],
   "source": [
    "conversation_id = None\n",
    "input = None\n",
    "params = None"
   ]
  },
  {
   "cell_type": "code",
   "execution_count": null,
   "metadata": {
    "collapsed": true
   },
   "outputs": [],
   "source": []
  },
  {
   "cell_type": "code",
   "execution_count": 27,
   "metadata": {
    "collapsed": true
   },
   "outputs": [],
   "source": [
    "########################\n",
    "### Start new conversation\n",
    "########################"
   ]
  },
  {
   "cell_type": "code",
   "execution_count": 30,
   "metadata": {
    "collapsed": true
   },
   "outputs": [],
   "source": [
    "###Send the request###\n",
    "response = requests.post(dialogurl , params={'dialog_id':'e83528d6-a471-47d7-b138-eba240e1cbcc'}, auth =(user,pswd), verify=False)"
   ]
  },
  {
   "cell_type": "code",
   "execution_count": 31,
   "metadata": {
    "collapsed": false
   },
   "outputs": [
    {
     "name": "stdout",
     "output_type": "stream",
     "text": [
      "Using conversation with Id:904568 and client_id: 908124\n",
      "\n",
      "Response is:Hi, I'm Watson! I can help you order a pizza, what size would you like?\n"
     ]
    }
   ],
   "source": [
    "### print the result###\n",
    "if response.status_code == 201:\n",
    "    json_data = json.loads(response.text)\n",
    "    response=json_data[\"response\"][0]\n",
    "    conversation_id=json_data[\"conversation_id\"]\n",
    "    client_id=json_data[\"client_id\"]\n",
    "    print \"Using conversation with Id:{} and client_id: {}\".format(conversation_id, client_id)\n",
    "    print\n",
    "    print \"Response is:{}\".format(response)\n",
    "else:\n",
    "    print \"Response code is {}\".format(response.status_code)"
   ]
  },
  {
   "cell_type": "code",
   "execution_count": null,
   "metadata": {
    "collapsed": true
   },
   "outputs": [],
   "source": []
  }
 ],
 "metadata": {
  "kernelspec": {
   "display_name": "Python 2",
   "language": "python",
   "name": "python2"
  },
  "language_info": {
   "codemirror_mode": {
    "name": "ipython",
    "version": 2
   },
   "file_extension": ".py",
   "mimetype": "text/x-python",
   "name": "python",
   "nbconvert_exporter": "python",
   "pygments_lexer": "ipython2",
   "version": "2.7.11"
  }
 },
 "nbformat": 4,
 "nbformat_minor": 0
}
